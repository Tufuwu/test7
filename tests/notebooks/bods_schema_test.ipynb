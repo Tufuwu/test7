{
 "cells": [
  {
   "cell_type": "code",
   "execution_count": null,
   "metadata": {},
   "outputs": [],
   "source": [
    "import os\n",
    "import json\n",
    "import sys\n",
    "from jsonschema import ValidationError"
   ]
  },
  {
   "cell_type": "code",
   "execution_count": null,
   "metadata": {},
   "outputs": [],
   "source": [
    "sys.path.append(os.path.abspath(os.path.join('..')))\n",
    "    \n",
    "from bods_validate import (bods_validate_statement, bods_validate_package,\n",
    "                           bods_iter_errors_statement, bods_iter_errors_package)\n",
    "\n",
    "from test_data import test_valid_statement_json"
   ]
  },
  {
   "cell_type": "code",
   "execution_count": null,
   "metadata": {},
   "outputs": [],
   "source": [
    "def check_valid_statement(path):\n",
    "    \"\"\"\n",
    "    Validates a BODS statement.\n",
    "    Iterates through any ValidationErrors\n",
    "    and prints these.\n",
    "    \"\"\"\n",
    "    with open(path) as f:\n",
    "        statement = json.load(f)\n",
    "    for error in bods_iter_errors_statement(statement):\n",
    "        print(str(error))\n",
    "            \n",
    "def check_valid_package(path):\n",
    "    \"\"\"\n",
    "    Validates a BODS package.\n",
    "    Iterates through any ValidationErrors\n",
    "    and prints these.\n",
    "    \"\"\"\n",
    "    with open(path) as f:\n",
    "        package = json.load(f)\n",
    "    for error in bods_iter_errors_package(package):\n",
    "        print(str(error))"
   ]
  },
  {
   "cell_type": "markdown",
   "metadata": {},
   "source": [
    "# Use test functions to test a statement (which we expect to fail)"
   ]
  },
  {
   "cell_type": "code",
   "execution_count": null,
   "metadata": {},
   "outputs": [],
   "source": [
    "path = \"../data/beneficial-ownership-statement/invalid/beneficial-ownership-statement-no-statement-type.json\"\n",
    "check_valid_statement(path)"
   ]
  },
  {
   "cell_type": "code",
   "execution_count": null,
   "metadata": {},
   "outputs": [],
   "source": [
    "check_valid_statement(\"../data/entity-statement/invalid/entity-statement-with-invalid-statement-id-no-entity-type.json\")"
   ]
  },
  {
   "cell_type": "markdown",
   "metadata": {},
   "source": [
    "# Use test functions to test a package (which we expect to fail)"
   ]
  },
  {
   "cell_type": "code",
   "execution_count": null,
   "metadata": {},
   "outputs": [],
   "source": [
    "path = \"../data/bods-package/fails-secondary-validation/bods-package-missing-entity-statement.json\"\n",
    "check_valid_package(path)"
   ]
  },
  {
   "cell_type": "markdown",
   "metadata": {},
   "source": [
    "# Run tests"
   ]
  },
  {
   "cell_type": "code",
   "execution_count": null,
   "metadata": {},
   "outputs": [],
   "source": [
    "%%bash\n",
    "\n",
    "cd ..\n",
    "pytest -v"
   ]
  }
 ],
 "metadata": {
  "kernelspec": {
   "display_name": "Python [default]",
   "language": "python",
   "name": "python3"
  },
  "language_info": {
   "codemirror_mode": {
    "name": "ipython",
    "version": 3
   },
   "file_extension": ".py",
   "mimetype": "text/x-python",
   "name": "python",
   "nbconvert_exporter": "python",
   "pygments_lexer": "ipython3",
   "version": "3.6.2"
  }
 },
 "nbformat": 4,
 "nbformat_minor": 2
}
